{
 "cells": [
  {
   "cell_type": "code",
   "execution_count": null,
   "outputs": [],
   "source": [
    "import os\n",
    "import random\n",
    "import numpy as np\n",
    "import skimage\n",
    "import tensorflow\n",
    "from skimage.color import colorconv\n",
    "from tensorflow.python.keras import Sequential\n",
    "from tensorflow.python.keras.layers import Dense, Conv2D, Activation, Flatten, MaxPooling2D, Rescaling\n",
    "import matplotlib.pyplot as plt\n",
    "from tensorflow.python.keras.utils import np_utils\n",
    "\n",
    "print(\"Dependencies imported.\")"
   ],
   "metadata": {
    "collapsed": false,
    "pycharm": {
     "name": "#%%\n"
    }
   }
  },
  {
   "cell_type": "code",
   "execution_count": null,
   "outputs": [],
   "source": [
    "print(\"Preparing Training Data...\")\n",
    "print(\"Loading images from disk...\")\n",
    "\n",
    "def load_data(data_directory):\n",
    "    directories = [d for d in os.listdir(data_directory)\n",
    "                   if os.path.isdir(os.path.join(data_directory, d))]\n",
    "    labels = []\n",
    "    images = []\n",
    "    classes = []\n",
    "    k = 0\n",
    "    for d in directories:\n",
    "        label_directory = os.path.join(data_directory, d)\n",
    "        file_names = [os.path.join(label_directory, f)\n",
    "                      for f in os.listdir(label_directory)\n",
    "                      if f.endswith(\".jpg\")]\n",
    "        for f in file_names:\n",
    "            images.append(skimage.io.imread(f))\n",
    "            labels.append(k)\n",
    "            classes.append(d)\n",
    "        k += 1\n",
    "    return images, labels, set(classes)\n",
    "\n",
    "ROOT_PATH = \"\"\n",
    "train_data_directory = os.path.join(ROOT_PATH, \"cifar10/train\")\n",
    "test_data_directory = os.path.join(ROOT_PATH, \"cifar10/test\")\n",
    "\n",
    "train_images, train_labels, train_classes = load_data(train_data_directory)\n",
    "test_images, test_labels, test_classes = load_data(test_data_directory)\n",
    "\n",
    "train_labels = np_utils.to_categorical(train_labels, 10)\n",
    "test_labels = np_utils.to_categorical(test_labels, 10)"
   ],
   "metadata": {
    "collapsed": false,
    "pycharm": {
     "name": "#%%\n"
    }
   }
  },
  {
   "cell_type": "code",
   "execution_count": null,
   "outputs": [],
   "source": [
    "print(\"Loaded {0} training images\".format(len(train_images)))\n",
    "print(\"Loaded {0} test images\".format(len(test_images)))\n",
    "print(\"Loaded {0} classes: {1}\".format(len(set(test_classes)), set(test_classes)) )"
   ],
   "metadata": {
    "collapsed": false,
    "pycharm": {
     "name": "#%%\n"
    }
   }
  },
  {
   "cell_type": "code",
   "execution_count": null,
   "outputs": [],
   "source": [
    "print(\"Converting images to grayscale...\")\n",
    "\n",
    "def prepare_data(images):\n",
    "  grayscale_images = []\n",
    "  for i in range(0, len(images)):\n",
    "    grayscale_images.append(colorconv.rgb2gray(images[i]))\n",
    "  print(\"Converted {0} images to grayscale.\".format(len(images)))\n",
    "  return grayscale_images\n",
    "\n",
    "train_images = np.array(train_images)\n",
    "test_images = np.array(test_images)\n",
    "train_labels = np.array(train_labels)\n",
    "test_labels = np.array(test_labels)\n",
    "\n",
    "train_images = train_images.reshape((len(train_images)), 32, 32, 3)\n",
    "test_images = test_images.reshape((len(test_images)), 32, 32, 3)\n",
    "\n",
    "print(\"Training Data Prepared\")"
   ],
   "metadata": {
    "collapsed": false,
    "pycharm": {
     "name": "#%%\n"
    }
   }
  },
  {
   "cell_type": "code",
   "execution_count": null,
   "outputs": [],
   "source": [
    "print(\"Showing 8 random sample images\")\n",
    "for i in range(8):\n",
    "    plt.subplot(2, 4, i+1)\n",
    "    plt.axis('off')\n",
    "    plt.imshow(train_images[random.randint(0, len(train_images))], cmap=\"gray\")\n",
    "    plt.subplots_adjust(wspace=0.5)"
   ],
   "metadata": {
    "collapsed": false,
    "pycharm": {
     "name": "#%%\n"
    }
   }
  },
  {
   "cell_type": "code",
   "execution_count": null,
   "outputs": [],
   "source": [
    "print(\"Preparing Model...\")\n",
    "num_classes = 10\n",
    "inputShape = (None, 32, 32, 3)\n",
    "\n",
    "model = Sequential([\n",
    "  Rescaling(1./255),\n",
    "  Conv2D(32, 3, input_shape=(32, 32, 3), activation='relu'),\n",
    "  MaxPooling2D(pool_size=(4,4)),\n",
    "  Conv2D(128, 3, input_shape=(8, 8, 3), activation='relu'),\n",
    "  MaxPooling2D(pool_size=(2,2)),\n",
    "  Flatten(),\n",
    "  Dense(128, activation='relu'),\n",
    "  Dense(32, activation='relu'),\n",
    "  Dense(num_classes, activation=\"softmax\")\n",
    "])\n",
    "\n",
    "model.compile(optimizer='adam',\n",
    "              loss=tensorflow.keras.losses.CategoricalCrossentropy(from_logits=True),\n",
    "              metrics=['accuracy'])\n",
    "\n",
    "model.build(inputShape)\n",
    "\n",
    "model.summary()\n",
    "print(\"Model input shape = {0}\".format(model.input_shape))\n",
    "print(\"Model output shape = {0}\".format(model.output_shape))\n",
    "print(\"Data shape = {0}\".format(train_images.shape))\n",
    "print(\"Labels shape = {0}\".format(train_labels.shape))\n",
    "print(\"Model prepared.\")"
   ],
   "metadata": {
    "collapsed": false,
    "pycharm": {
     "name": "#%%\n"
    }
   }
  },
  {
   "cell_type": "code",
   "execution_count": null,
   "outputs": [],
   "source": [
    "EPOCHS = 10\n",
    "FINISHED_FILE_NAME = \"Model\"\n",
    "print(\"Training...\")\n",
    "\n",
    "model.fit(x = train_images,\n",
    "          y = train_labels,\n",
    "          # steps_per_epoch=1000,\n",
    "          # batch_size=32,\n",
    "          epochs=EPOCHS,\n",
    "          verbose=1)\n",
    "print(\"Training finished.\")\n",
    "\n",
    "model.save(FINISHED_FILE_NAME)\n",
    "print(\"Model saved as {0}.\".format(FINISHED_FILE_NAME))"
   ],
   "metadata": {
    "collapsed": false,
    "pycharm": {
     "name": "#%%\n"
    }
   }
  },
  {
   "cell_type": "code",
   "execution_count": null,
   "outputs": [],
   "source": [
    "TEST_OFFSET = random.randint(0, 500)\n",
    "\n",
    "fig_size = plt.rcParams[\"figure.figsize\"]\n",
    "fig_size[0] = 12\n",
    "fig_size[1] = 9\n",
    "plt.rcParams[\"figure.figsize\"] = fig_size\n",
    "\n",
    "model.evaluate(test_images, test_labels, verbose=1)\n",
    "\n",
    "predictions = model.predict(test_images)\n",
    "images = test_images[TEST_OFFSET::500]\n",
    "pred = np.argmax(predictions, axis = 1)[TEST_OFFSET::500]\n",
    "label = np.argmax(test_labels, axis = 1)[TEST_OFFSET::500]\n",
    "\n",
    "print(pred)\n",
    "print(label)\n",
    "classes = [\"plane\", \"deer\", \"frog\", \"dog\", \"cat\", \"car\", \"ship\", \"bird\", \"truck\", \"horse\"]\n",
    "classes_wrong = list(test_classes)\n",
    "print(classes)\n",
    "print(classes_wrong)\n",
    "correctNum = 0\n",
    "for i in range(len(pred)):\n",
    "  s = \"Expected\\t{0}\\tpredicted\\t{1}\".format(classes[label[i]][:5], classes[pred[i]][:5])\n",
    "  if label[i] == pred[i]:\n",
    "    s += \"\\tOK\"\n",
    "    correctNum += 1\n",
    "  else:\n",
    "    s += \"\\tERROR\"\n",
    "  print(s)\n",
    "print(\"These samples are {0}% correct\".format(100*(correctNum/len(pred))))\n",
    "\n",
    "\n",
    "print(\"Showing 20 sample images. Offset: {0}\".format(TEST_OFFSET))\n",
    "for i in range(20):\n",
    "    # r = random.randint(0, len(test_images))\n",
    "    plt.subplot(5, 5, i+1)\n",
    "    plt.axis('off')\n",
    "    plt.text(0, -2, \"E: {0} P: {1}\".format(classes[label[i]][:5], classes[pred[i]][:5]))\n",
    "    # plt.text(0, -4, list(test_classes)[np.argmax(predictions[r])])\n",
    "    plt.imshow(images[i])\n",
    "    plt.subplots_adjust(wspace=0.5)\n",
    "\n"
   ],
   "metadata": {
    "collapsed": false,
    "pycharm": {
     "name": "#%%\n"
    }
   }
  }
 ],
 "metadata": {
  "kernelspec": {
   "display_name": "Python 3",
   "language": "python",
   "name": "python3"
  },
  "language_info": {
   "codemirror_mode": {
    "name": "ipython",
    "version": 2
   },
   "file_extension": ".py",
   "mimetype": "text/x-python",
   "name": "python",
   "nbconvert_exporter": "python",
   "pygments_lexer": "ipython2",
   "version": "2.7.6"
  }
 },
 "nbformat": 4,
 "nbformat_minor": 0
}